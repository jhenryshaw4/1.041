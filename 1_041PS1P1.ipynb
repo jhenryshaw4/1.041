{
  "nbformat": 4,
  "nbformat_minor": 0,
  "metadata": {
    "colab": {
      "provenance": [],
      "authorship_tag": "ABX9TyM5UcJWDk7DNxfhVtE8yTuk",
      "include_colab_link": true
    },
    "kernelspec": {
      "name": "python3",
      "display_name": "Python 3"
    },
    "language_info": {
      "name": "python"
    }
  },
  "cells": [
    {
      "cell_type": "markdown",
      "metadata": {
        "id": "view-in-github",
        "colab_type": "text"
      },
      "source": [
        "<a href=\"https://colab.research.google.com/github/jhenryshaw4/1.041/blob/main/1_041PS1P1.ipynb\" target=\"_parent\"><img src=\"https://colab.research.google.com/assets/colab-badge.svg\" alt=\"Open In Colab\"/></a>"
      ]
    },
    {
      "cell_type": "code",
      "execution_count": 32,
      "metadata": {
        "colab": {
          "base_uri": "https://localhost:8080/"
        },
        "id": "fep2lnOR0jlP",
        "outputId": "fc551801-ffd7-485d-db35-5f61fd840152"
      },
      "outputs": [
        {
          "output_type": "stream",
          "name": "stdout",
          "text": [
            "600\n"
          ]
        }
      ],
      "source": [
        "#list of positions of A\n",
        "a = [0]\n",
        "#list of positions of B\n",
        "b = [0]\n",
        "\n",
        "#traffic light phasing- 0 = red, 1= green\n",
        "tl = 0\n",
        "\n",
        "\n",
        "i = 0\n",
        "t = [0]\n",
        "while a[-1] < 1500 or b[-1] < 1500:\n",
        "  i += 1\n",
        "  t.append(t[-1] + 1)\n",
        "  #check if phase should switch \n",
        "  if i == 30 and tl == 0:\n",
        "    i == 0\n",
        "    tl = 1\n",
        "  if i == 30 and tl == 1:\n",
        "    i == 0\n",
        "    tl == 0\n",
        "  \n",
        "  #move A\n",
        "  if (a[-1] == 600 or a[-1] == 1200) and tl == 0:\n",
        "    a.append(a[-1])\n",
        "  else:\n",
        "    a.append(a[-1] + 20)\n",
        "\n",
        "  #move B\n",
        "  if t[-1] <= 20:\n",
        "    b == b\n",
        "  elif (b[-1] == 600 or b[-1] == 1200) and tl == 0:\n",
        "    b.append(b[-1])\n",
        "  else:\n",
        "    b.append(b[-1] + 40)"
      ]
    },
    {
      "cell_type": "code",
      "source": [
        "import matplotlib.pyplot as plt\n",
        "t2 = []\n",
        "for j in range(20, len(t)):\n",
        "  t2.append(t[j])\n",
        "#vehicles\n",
        "plt.plot(t, a, label=\"Truck A\")\n",
        "plt.plot(t2, b, label=\"Car B\")\n",
        "plt.plot()\n",
        "plt.xlabel(\"time\")\n",
        "plt.ylabel(\"distance\")\n",
        "plt.title(\"Time-Space Diagram\")\n",
        "plt.legend()\n",
        "\n",
        "#red lights\n",
        "t_values = [0, 30]\n",
        "t_values2 = [60, 75]\n",
        "x_values = [600,600]\n",
        "x_values2 = [1200,1200]\n",
        "plt.plot(t_values, x_values, 'red', linestyle=\"--\")\n",
        "plt.plot(t_values, x_values2, 'red', linestyle=\"--\")\n",
        "plt.plot(t_values2, x_values, 'red', linestyle=\"--\")\n",
        "plt.plot(t_values2, x_values2, 'red', linestyle=\"--\")\n",
        "plt.show()"
      ],
      "metadata": {
        "colab": {
          "base_uri": "https://localhost:8080/",
          "height": 295
        },
        "id": "J1g0429h8byv",
        "outputId": "6a85d342-a651-4a62-91e6-4c06eb1c2fd9"
      },
      "execution_count": 33,
      "outputs": [
        {
          "output_type": "display_data",
          "data": {
            "text/plain": [
              "<Figure size 432x288 with 1 Axes>"
            ],
            "image/png": "[encoded data removed]"
          },
          "metadata": {
            "needs_background": "light"
          }
        }
      ]
    },
    {
      "cell_type": "code",
      "source": [
        "for i in range(20,75):\n",
        "  if a[i] == b[i-20]:\n",
        "    print(i)\n",
        "    break"
      ],
      "metadata": {
        "colab": {
          "base_uri": "https://localhost:8080/"
        },
        "id": "9-nQLwqrC2A-",
        "outputId": "dc92b059-0ff7-48b8-a720-a1d41af0a1b6"
      },
      "execution_count": 34,
      "outputs": [
        {
          "output_type": "stream",
          "name": "stdout",
          "text": [
            "40\n"
          ]
        }
      ]
    }
  ]
}