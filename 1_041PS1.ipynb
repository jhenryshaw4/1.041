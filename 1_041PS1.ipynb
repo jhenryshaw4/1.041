{
  "nbformat": 4,
  "nbformat_minor": 0,
  "metadata": {
    "colab": {
      "provenance": [],
      "name": "1-041PS1.ipynb",
      "authorship_tag": "ABX9TyMx96jIAUWhsrJA82bEBb+N",
      "include_colab_link": true
    },
    "kernelspec": {
      "name": "python3",
      "display_name": "Python 3"
    },
    "language_info": {
      "name": "python"
    }
  },
  "cells": [
    {
      "cell_type": "markdown",
      "metadata": {
        "id": "view-in-github",
        "colab_type": "text"
      },
      "source": [
        "<a href=\"https://colab.research.google.com/github/jhenryshaw4/1.041/blob/main/1_041PS1.ipynb\" target=\"_parent\"><img src=\"https://colab.research.google.com/assets/colab-badge.svg\" alt=\"Open In Colab\"/></a>"
      ]
    },
    {
      "cell_type": "markdown",
      "source": [
        "Problem 1"
      ],
      "metadata": {
        "id": "UqhEgnaoG9m2"
      }
    },
    {
      "cell_type": "code",
      "execution_count": 120,
      "metadata": {
        "id": "fep2lnOR0jlP"
      },
      "outputs": [],
      "source": [
        "#list of positions of A\n",
        "a = [0]\n",
        "#list of positions of B\n",
        "b = [0]\n",
        "\n",
        "#traffic light phasing- 0 = red, 1= green\n",
        "tl = 0\n",
        "\n",
        "\n",
        "i = 0\n",
        "t = [0]\n",
        "while a[-1] < 1500 or b[-1] < 1500:\n",
        "  i += 1\n",
        "  t.append(t[-1] + 1)\n",
        "  #check if phase should switch \n",
        "  if i == 30 and tl == 0:\n",
        "    i == 0\n",
        "    tl = 1\n",
        "  if i == 30 and tl == 1:\n",
        "    i == 0\n",
        "    tl == 0\n",
        "  \n",
        "  #move A\n",
        "  if (a[-1] == 600 or a[-1] == 1200) and tl == 0:\n",
        "    a.append(a[-1])\n",
        "  else:\n",
        "    a.append(a[-1] + 20)\n",
        "\n",
        "  #move B\n",
        "  if t[-1] <= 20:\n",
        "    b == b\n",
        "  elif (b[-1] == 600 or b[-1] == 1200) and tl == 0:\n",
        "    b.append(b[-1])\n",
        "  else:\n",
        "    b.append(b[-1] + 40)"
      ]
    },
    {
      "cell_type": "code",
      "source": [
        "import matplotlib.pyplot as plt\n",
        "t2 = []\n",
        "for j in range(20, len(t)):\n",
        "  t2.append(t[j])\n",
        "#vehicles\n",
        "plt.plot(t, a, label=\"Truck A\")\n",
        "plt.plot(t2, b, label=\"Car B\")\n",
        "plt.plot()\n",
        "plt.xlabel(\"time\")\n",
        "plt.ylabel(\"distance\")\n",
        "plt.title(\"Time-Space Diagram\")\n",
        "plt.legend()\n",
        "\n",
        "#red lights\n",
        "t_values = [0, 30]\n",
        "t_values2 = [60, 75]\n",
        "x_values = [600,600]\n",
        "x_values2 = [1200,1200]\n",
        "plt.plot(t_values, x_values, 'red', linestyle=\"--\")\n",
        "plt.plot(t_values, x_values2, 'red', linestyle=\"--\")\n",
        "plt.plot(t_values2, x_values, 'red', linestyle=\"--\")\n",
        "plt.plot(t_values2, x_values2, 'red', linestyle=\"--\")\n",
        "plt.show()"
      ],
      "metadata": {
        "colab": {
          "base_uri": "https://localhost:8080/",
          "height": 295
        },
        "id": "J1g0429h8byv",
        "outputId": "da56eb1b-020e-4790-bf72-3257466bd385"
      },
      "execution_count": 121,
      "outputs": [
        {
          "output_type": "display_data",
          "data": {
            "text/plain": [
              "<Figure size 432x288 with 1 Axes>"
            ],
            "image/png": "[encoded data removed]"
          },
          "metadata": {
            "needs_background": "light"
          }
        }
      ]
    },
    {
      "cell_type": "code",
      "source": [
        "for i in range(20,75):\n",
        "  if a[i] == b[i-20]:\n",
        "    print(i)\n",
        "    break"
      ],
      "metadata": {
        "colab": {
          "base_uri": "https://localhost:8080/"
        },
        "id": "9-nQLwqrC2A-",
        "outputId": "5ed2d700-80b0-4f35-b10c-5fcb32cb0be1"
      },
      "execution_count": 122,
      "outputs": [
        {
          "output_type": "stream",
          "name": "stdout",
          "text": [
            "40\n"
          ]
        }
      ]
    },
    {
      "cell_type": "markdown",
      "source": [
        "Problem 2"
      ],
      "metadata": {
        "id": "ywM0lINvHCUh"
      }
    },
    {
      "cell_type": "code",
      "source": [
        "a_arrivals = [0]\n",
        "b_arrivals = [0]\n",
        "a_departures = [0]\n",
        "b_departures = [0]\n",
        "a_arrivaltimes = [0]\n",
        "b_arrivaltimes = [0]\n",
        "a_departuretimes = [0]\n",
        "b_departuretimes = [0]\n",
        "\n",
        "#phase = 1: Green for A, Red for B\n",
        "#phase = 2: Green for B, Red for A\n",
        "phase = 1\n",
        "for t in range(240):\n",
        "  #change phase if necessary\n",
        "  if (t % 60) == 0 and phase == 2:\n",
        "    phase = 1\n",
        "  elif (t % 60) == 0 and phase == 1:\n",
        "    phase = 2\n",
        "  \n",
        "  #always add cars to arrival curves\n",
        "  if (t % 3) == 0:\n",
        "    a_arrivaltimes.append(t)\n",
        "    a_arrivals.append(a_arrivals[-1] + 1)\n",
        "  if (t % 2) == 0:\n",
        "    b_arrivaltimes.append(t)\n",
        "    b_arrivals.append(b_arrivals[-1] + 1)\n",
        "\n",
        "  #update A departure curve\n",
        "  #AND check that there is an available car to go\n",
        "  if phase == 1 and a_departures[-1] != a_arrivals[-1]:\n",
        "    a_departuretimes.append(t)\n",
        "    a_departures.append(a_departures[-1] + 1)\n",
        "  \n",
        "  #update B departure curve\n",
        "  if phase == 2 and b_departures[-1] != b_arrivals[-1]:\n",
        "    b_departuretimes.append(t)\n",
        "    b_departures.append(b_departures[-1] + 1)\n",
        "\n",
        "b_departuretimes.append(240)\n",
        "b_departures.append(b_departures[-1])"
      ],
      "metadata": {
        "id": "mXNQnN1XHEuJ"
      },
      "execution_count": 123,
      "outputs": []
    },
    {
      "cell_type": "code",
      "source": [
        "import matplotlib.pyplot as plt\n",
        "import matplotlib.patches as mpatches\n",
        "plt.step(a_departuretimes, a_departures, color='red', where='post')\n",
        "plt.step(a_arrivaltimes, a_arrivals, color='green', where='post')\n",
        "plt.xlabel(\"time (s)\")\n",
        "plt.ylabel(\"cars\")\n",
        "plt.title(\"Road A Cumulative Plot\")\n",
        "red_patch = mpatches.Patch(color='red', label='A Departures')\n",
        "green_patch = mpatches.Patch(color='green', label='A Arrivals')\n",
        "plt.legend(handles=[red_patch, green_patch])\n",
        "plt.plot()\n",
        "plt.show()"
      ],
      "metadata": {
        "colab": {
          "base_uri": "https://localhost:8080/",
          "height": 295
        },
        "id": "0KCxYuu3Sxu5",
        "outputId": "d0a0a4e8-faf9-4c58-a048-b6d67069dcdb"
      },
      "execution_count": 124,
      "outputs": [
        {
          "output_type": "display_data",
          "data": {
            "text/plain": [
              "<Figure size 432x288 with 1 Axes>"
            ],
            "image/png": "[encoded data removed]"
          },
          "metadata": {
            "needs_background": "light"
          }
        }
      ]
    },
    {
      "cell_type": "code",
      "source": [
        "import matplotlib.pyplot as plt\n",
        "import matplotlib.patches as mpatches\n",
        "plt.step(b_departuretimes, b_departures, color='red', where='post')\n",
        "plt.step(b_arrivaltimes, b_arrivals, color='green', where='post')\n",
        "plt.xlabel(\"time (s)\")\n",
        "plt.ylabel(\"cars\")\n",
        "plt.title(\"Road B Cumulative Plot\")\n",
        "red_patch = mpatches.Patch(color='red', label='B Departures')\n",
        "green_patch = mpatches.Patch(color='green', label='B Arrivals')\n",
        "plt.legend(handles=[red_patch, green_patch])\n",
        "plt.plot()\n",
        "plt.show()"
      ],
      "metadata": {
        "colab": {
          "base_uri": "https://localhost:8080/",
          "height": 295
        },
        "id": "EnRlKwhnLi93",
        "outputId": "32468c69-8559-450c-b583-7eee507cea42"
      },
      "execution_count": 125,
      "outputs": [
        {
          "output_type": "display_data",
          "data": {
            "text/plain": [
              "<Figure size 432x288 with 1 Axes>"
            ],
            "image/png": "[encoded data removed]"
          },
          "metadata": {
            "needs_background": "light"
          }
        }
      ]
    },
    {
      "cell_type": "code",
      "source": [
        "total_waittimes = []\n",
        "for x in range(120):\n",
        "  wait = 0\n",
        "  a_arrivals = [0]\n",
        "  b_arrivals = [0]\n",
        "  a_departures = [0]\n",
        "  b_departures = [0]\n",
        "  a_arrivaltimes = [0]\n",
        "  b_arrivaltimes = [0]\n",
        "  a_departuretimes = [0]\n",
        "  b_departuretimes = [0]\n",
        "\n",
        "  #phase = 1: Green for A, Red for B\n",
        "  #phase = 2: Green for B, Red for A\n",
        "  phase = 2\n",
        "  for t in range(240):\n",
        "    #change phase if necessary\n",
        "    if t >= (120 + x):\n",
        "      phase = 1\n",
        "    elif t >= 120:\n",
        "      phase = 2\n",
        "    elif t >= x:\n",
        "      phase = 1\n",
        "    \n",
        "    \n",
        "    #always add cars to arrival curves\n",
        "    if (t % 3) == 0:\n",
        "      a_arrivaltimes.append(t)\n",
        "      a_arrivals.append(a_arrivals[-1] + 1)\n",
        "    if (t % 2) == 0:\n",
        "      b_arrivaltimes.append(t)\n",
        "      b_arrivals.append(b_arrivals[-1] + 1)\n",
        "\n",
        "    #update A departure curve\n",
        "    #AND check that there is an available car to go\n",
        "    if phase == 1 and a_departures[-1] != a_arrivals[-1]:\n",
        "      a_departuretimes.append(t)\n",
        "      a_departures.append(a_departures[-1] + 1)\n",
        "    \n",
        "    #update B departure curve\n",
        "    if phase == 2 and b_departures[-1] != b_arrivals[-1]:\n",
        "      b_departuretimes.append(t)\n",
        "      b_departures.append(b_departures[-1] + 1)\n",
        "\n",
        "  #calculate wait\n",
        "  for i in range(120):\n",
        "    a_departuretimes.append(240)\n",
        "    b_departuretimes.append(240)\n",
        "  for car in a_arrivals:\n",
        "    wait += a_departuretimes[car] - a_arrivaltimes[car]\n",
        "  for car in b_arrivals:\n",
        "    wait += b_departuretimes[car] - b_arrivaltimes[car]\n",
        "  total_waittimes.append([x, wait])\n",
        "print(total_waittimes)"
      ],
      "metadata": {
        "colab": {
          "base_uri": "https://localhost:8080/"
        },
        "id": "wHvZzOrX2Osj",
        "outputId": "366c08d1-474d-41fc-e529-6bccc6ea5a42"
      },
      "execution_count": 13,
      "outputs": [
        {
          "output_type": "stream",
          "name": "stdout",
          "text": [
            "[[0, 14520], [1, 14162], [2, 14045], [3, 13693], [4, 13580], [5, 13234], [6, 13125], [7, 12785], [8, 12680], [9, 12346], [10, 12245], [11, 11917], [12, 11820], [13, 11498], [14, 11405], [15, 11089], [16, 11000], [17, 10690], [18, 10605], [19, 10301], [20, 10220], [21, 9922], [22, 9845], [23, 9553], [24, 9480], [25, 9194], [26, 9125], [27, 8845], [28, 8780], [29, 8506], [30, 8445], [31, 8177], [32, 8120], [33, 7858], [34, 7805], [35, 7549], [36, 7500], [37, 7250], [38, 7205], [39, 6961], [40, 6920], [41, 6682], [42, 6645], [43, 6413], [44, 6380], [45, 6154], [46, 6125], [47, 5905], [48, 5880], [49, 5666], [50, 5645], [51, 5437], [52, 5420], [53, 5218], [54, 5205], [55, 5009], [56, 5000], [57, 4810], [58, 4805], [59, 4621], [60, 4620], [61, 4503], [62, 4565], [63, 4456], [64, 4520], [65, 4419], [66, 4485], [67, 4392], [68, 4460], [69, 4375], [70, 4445], [71, 4368], [72, 4440], [73, 4371], [74, 4445], [75, 4384], [76, 4460], [77, 4407], [78, 4485], [79, 4440], [80, 4520], [81, 4601], [82, 4799], [83, 4882], [84, 5076], [85, 5161], [86, 5351], [87, 5438], [88, 5624], [89, 5713], [90, 5895], [91, 5986], [92, 6164], [93, 6257], [94, 6431], [95, 6526], [96, 6696], [97, 6793], [98, 6959], [99, 7058], [100, 7220], [101, 7321], [102, 7479], [103, 7582], [104, 7736], [105, 7841], [106, 7991], [107, 8098], [108, 8244], [109, 8353], [110, 8495], [111, 8606], [112, 8744], [113, 8857], [114, 8991], [115, 9106], [116, 9236], [117, 9353], [118, 9479], [119, 9598]]\n"
          ]
        }
      ]
    },
    {
      "cell_type": "code",
      "source": [
        "import matplotlib.pyplot as plt\n",
        "y = []\n",
        "x = []\n",
        "for i in total_waittimes:\n",
        "  x.append(i[0])\n",
        "  y.append(i[1])\n",
        "plt.plot(x, y, label=\"Waits\")\n",
        "plt.xlim(0, 120)\n",
        "plt.xlabel(\"Length of Phase 2\")\n",
        "plt.ylabel(\"Total Wait\")\\\n",
        "\n",
        "plt.title(\"Signal Optimization\")"
      ],
      "metadata": {
        "colab": {
          "base_uri": "https://localhost:8080/",
          "height": 312
        },
        "id": "RJL07aSk5rRz",
        "outputId": "976bdcb6-5d80-4c87-d9c4-4278afe18578"
      },
      "execution_count": 15,
      "outputs": [
        {
          "output_type": "execute_result",
          "data": {
            "text/plain": [
              "Text(0.5, 1.0, 'Signal Optimization')"
            ]
          },
          "metadata": {},
          "execution_count": 15
        },
        {
          "output_type": "display_data",
          "data": {
            "text/plain": [
              "<Figure size 432x288 with 1 Axes>"
            ],
            "image/png": "[encoded data removed]"
          },
          "metadata": {
            "needs_background": "light"
          }
        }
      ]
    },
    {
      "cell_type": "markdown",
      "source": [
        "Problem 3"
      ],
      "metadata": {
        "id": "xQHuXEMPSDGA"
      }
    },
    {
      "cell_type": "code",
      "source": [
        "#Minutes left until counter available\n",
        "c_arrivaltimes = []\n",
        "a_in_use = 0\n",
        "b_in_use = 0\n",
        "a_arrivals = 0\n",
        "a_departures = 0\n",
        "b_arrivals = 0\n",
        "b_departures = 0\n",
        "a_arrivaltimes = []\n",
        "a_departuretimes = []\n",
        "b_arrivaltimes = []\n",
        "b_departuretimes = []\n",
        "a_line = []\n",
        "b_line = []\n",
        "a_type = []\n",
        "b_type = []\n",
        "#populating arrivals list\n",
        "#general = 0, online = 1, exec = 2\n",
        "arrivals = []\n",
        "#arrival[time, type]\n",
        "arrivals.append([1,1])\n",
        "arrivals.append([3,0])\n",
        "arrivals.append([4,2])\n",
        "arrivals.append([4,1])\n",
        "arrivals.append([6,1])\n",
        "arrivals.append([10,0])\n",
        "arrivals.append([12,2])\n",
        "arrivals.append([15,1])\n",
        "arrivals.append([16,2])\n",
        "arrivals.append([20,0])\n",
        "\n",
        "for t in range(60):\n",
        "  #add people to line if necessary\n",
        "  for arrival in arrivals:\n",
        "    if arrival[0] == t:\n",
        "      #for general passengers\n",
        "      if arrival[1] == 0:\n",
        "        a_arrivaltimes.append(t)\n",
        "        a_line.append(arrival)\n",
        "      #for exec and online passengers\n",
        "      else:\n",
        "        #check for empty counter A if busy counter B\n",
        "        if b_in_use > 0 and (len(a_line) == 0 or a_in_use == 0):\n",
        "          a_arrivaltimes.append(t)\n",
        "          a_line.append(arrival)\n",
        "        else:\n",
        "          b_arrivals += 1\n",
        "          b_arrivaltimes.append(t)\n",
        "          b_line.append(arrival)\n",
        "\n",
        "  #remove people from counters if applicable\n",
        "  if a_in_use != 0:\n",
        "    if a_in_use == 1:\n",
        "      a_departures += 1\n",
        "      a_departuretimes.append(t-a_type[-1])\n",
        "      c_arrivaltimes.append(t)\n",
        "    a_in_use -= 1\n",
        "  if b_in_use != 0:\n",
        "    if b_in_use == 1:\n",
        "      b_departures += 1\n",
        "      b_departuretimes.append(t-b_type[-1])\n",
        "      c_arrivaltimes.append(t)\n",
        "    b_in_use -= 1\n",
        "\n",
        "  #add people to counters\n",
        "  if len(a_line) > 0 and a_in_use == 0:\n",
        "    p = a_line.pop(0)\n",
        "    if p[1] == 0:\n",
        "      a_in_use += 10\n",
        "      a_type.append(10)\n",
        "    elif p[1] == 1:\n",
        "      a_in_use += 7\n",
        "      a_type.append(7)\n",
        "    else:\n",
        "      a_in_use += 5\n",
        "      a_type.append(5)\n",
        "  if len(b_line) > 0 and b_in_use == 0:\n",
        "    p = b_line.pop(0)\n",
        "    if p[1] == 0:\n",
        "      b_in_use += 10\n",
        "      b_type.append(10)\n",
        "    elif p[1] == 1:\n",
        "      b_in_use += 7\n",
        "      b_type.append(7)\n",
        "    else:\n",
        "      b_in_use += 5\n",
        "      b_type.append(5)\n",
        "\n",
        "a1 = []\n",
        "a2 = []\n",
        "b1 = []\n",
        "b2 = []\n",
        "for i in range(len(a_arrivaltimes)+1):\n",
        "  a1.append(i)\n",
        "for i in range(len(a_departuretimes)+1):\n",
        "  a2.append(i)\n",
        "for i in range(len(b_arrivaltimes)+1):\n",
        "  b1.append(i)\n",
        "for i in range(len(b_departuretimes)+1):\n",
        "  b2.append(i)\n",
        "a_arrivaltimes.append(a_arrivaltimes[-1])\n",
        "b_arrivaltimes.append(b_arrivaltimes[-1])\n",
        "a_departuretimes.append(a_departuretimes[-1])\n",
        "b_departuretimes.append(b_departuretimes[-1])"
      ],
      "metadata": {
        "id": "KJX7DGJ1SCRs"
      },
      "execution_count": 41,
      "outputs": []
    },
    {
      "cell_type": "code",
      "source": [
        "import matplotlib.pyplot as plt\n",
        "import matplotlib.patches as mpatches\n",
        "plt.step(a_departuretimes, a2, color='red', where='pre')\n",
        "plt.step(a_arrivaltimes, a1, color='green', where='pre')\n",
        "plt.xlabel(\"time (min)\")\n",
        "plt.ylabel(\"people\")\n",
        "plt.title(\"Line A Cumulative Plot\")\n",
        "plt.xlim(0,60)\n",
        "red_patch = mpatches.Patch(color='red', label='A Departures')\n",
        "green_patch = mpatches.Patch(color='green', label='A Arrivals')\n",
        "plt.legend(handles=[red_patch, green_patch])\n",
        "plt.plot()\n",
        "plt.show()"
      ],
      "metadata": {
        "colab": {
          "base_uri": "https://localhost:8080/",
          "height": 295
        },
        "id": "nrypxVSqKu-o",
        "outputId": "91252b43-d09b-461e-eabe-7ee85c8448fb"
      },
      "execution_count": 42,
      "outputs": [
        {
          "output_type": "display_data",
          "data": {
            "text/plain": [
              "<Figure size 432x288 with 1 Axes>"
            ],
            "image/png": "[encoded data removed]"
          },
          "metadata": {
            "needs_background": "light"
          }
        }
      ]
    },
    {
      "cell_type": "code",
      "source": [
        "import matplotlib.pyplot as plt\n",
        "import matplotlib.patches as mpatches\n",
        "plt.step(b_departuretimes, b2, color='red', where='pre')\n",
        "plt.step(b_arrivaltimes, b1, color='green', where='pre')\n",
        "plt.xlabel(\"time (min)\")\n",
        "plt.ylabel(\"people\")\n",
        "plt.title(\"Line B Cumulative Plot\")\n",
        "plt.xlim(0,60)\n",
        "red_patch = mpatches.Patch(color='red', label='B Departures')\n",
        "green_patch = mpatches.Patch(color='green', label='B Arrivals')\n",
        "plt.legend(handles=[red_patch, green_patch])\n",
        "plt.plot()\n",
        "plt.show()"
      ],
      "metadata": {
        "colab": {
          "base_uri": "https://localhost:8080/",
          "height": 295
        },
        "id": "mlVwoek0PSlQ",
        "outputId": "adc5653e-f205-4d1c-a90b-e2bd78207c96"
      },
      "execution_count": 43,
      "outputs": [
        {
          "output_type": "display_data",
          "data": {
            "text/plain": [
              "<Figure size 432x288 with 1 Axes>"
            ],
            "image/png": "[encoded data removed]"
          },
          "metadata": {
            "needs_background": "light"
          }
        }
      ]
    },
    {
      "cell_type": "code",
      "source": [
        "a_wait = 0\n",
        "for i in range(len(a_departuretimes)-1):\n",
        "  a_wait += a_departuretimes[i] - a_arrivaltimes[i]\n",
        "b_wait = 0\n",
        "for i in range(len(b_departuretimes)-1):\n",
        "  b_wait += b_departuretimes[i] - b_arrivaltimes[i]\n",
        "print(a_wait)\n",
        "print(b_wait)"
      ],
      "metadata": {
        "colab": {
          "base_uri": "https://localhost:8080/"
        },
        "id": "tcyGmj-1VkeL",
        "outputId": "b1831539-dbee-460e-fa29-c3603bdf88c9"
      },
      "execution_count": 9,
      "outputs": [
        {
          "output_type": "stream",
          "name": "stdout",
          "text": [
            "20\n",
            "49\n"
          ]
        }
      ]
    },
    {
      "cell_type": "code",
      "source": [
        "c_arrivaltimes"
      ],
      "metadata": {
        "colab": {
          "base_uri": "https://localhost:8080/"
        },
        "id": "eoDYhewvu0n-",
        "outputId": "aef91997-7549-4d7f-f59a-cec5f2c64560"
      },
      "execution_count": 44,
      "outputs": [
        {
          "output_type": "execute_result",
          "data": {
            "text/plain": [
              "[8, 13, 15, 18, 22, 27, 28, 34, 38, 39]"
            ]
          },
          "metadata": {},
          "execution_count": 44
        }
      ]
    },
    {
      "cell_type": "code",
      "source": [
        "c_in_use = 0\n",
        "c_line = 0\n",
        "c_departuretimes = []\n",
        "for t in range(60):\n",
        "  #add people to line if necessary\n",
        "  for arrivaltime in c_arrivaltimes:\n",
        "    if arrivaltime == t:\n",
        "      c_line += 1\n",
        "\n",
        "  #remove people from security if applicable\n",
        "  if c_in_use != 0:\n",
        "    if c_in_use == 1:\n",
        "      c_departuretimes.append(t)\n",
        "    c_in_use -= 1\n",
        "\n",
        "  #add people to security\n",
        "  if c_line > 0 and c_in_use == 0:\n",
        "    c_in_use += 5\n",
        "    c_line -= 1\n",
        "  elif c_in_use > 0:\n",
        "    c_in_use -= 1\n",
        "\n",
        "c1 = []\n",
        "c2 = []\n",
        "for i in range(len(c_arrivaltimes)+1):\n",
        "  c1.append(i)\n",
        "for i in range(len(c_departuretimes)+1):\n",
        "  c2.append(i)\n",
        "c_arrivaltimes.append(c_arrivaltimes[-1])\n",
        "c_departuretimes.append(c_departuretimes[-1])"
      ],
      "metadata": {
        "id": "NooMQyUsosg8"
      },
      "execution_count": 47,
      "outputs": []
    },
    {
      "cell_type": "code",
      "source": [
        "import matplotlib.pyplot as plt\n",
        "import matplotlib.patches as mpatches\n",
        "plt.step(c_departuretimes, c2, color='red', where='pre')\n",
        "plt.step(c_arrivaltimes, c1, color='green', where='pre')\n",
        "plt.xlabel(\"time (min)\")\n",
        "plt.ylabel(\"people\")\n",
        "plt.title(\"Security Cumulative Plot\")\n",
        "plt.xlim(0,60)\n",
        "red_patch = mpatches.Patch(color='red', label='C Departures')\n",
        "green_patch = mpatches.Patch(color='green', label='C Arrivals')\n",
        "plt.legend(handles=[red_patch, green_patch])\n",
        "plt.plot()\n",
        "plt.show()"
      ],
      "metadata": {
        "colab": {
          "base_uri": "https://localhost:8080/",
          "height": 295
        },
        "id": "f-vSbZfYq_nZ",
        "outputId": "11ec7285-18a4-4b2c-8151-27b215f19cd2"
      },
      "execution_count": 49,
      "outputs": [
        {
          "output_type": "display_data",
          "data": {
            "text/plain": [
              "<Figure size 432x288 with 1 Axes>"
            ],
            "image/png": "[encoded data removed]"
          },
          "metadata": {
            "needs_background": "light"
          }
        }
      ]
    },
    {
      "cell_type": "code",
      "source": [
        "wait = 0\n",
        "for i in range(len(c_arrivaltimes)):\n",
        "  wait += c_departuretimes[i] - c_arrivaltimes[i]\n",
        "print(wait)"
      ],
      "metadata": {
        "colab": {
          "base_uri": "https://localhost:8080/"
        },
        "id": "61O0qP6Gy2aO",
        "outputId": "691ca4cd-bfe9-4efb-cb92-b803c7bc1a6e"
      },
      "execution_count": 51,
      "outputs": [
        {
          "output_type": "stream",
          "name": "stdout",
          "text": [
            "52\n"
          ]
        }
      ]
    },
    {
      "cell_type": "code",
      "source": [
        "print(b_arrivaltimes)\n",
        "print(b_departuretimes)\n",
        "print(c_arrivaltimes)\n",
        "print(c_departuretimes)"
      ],
      "metadata": {
        "colab": {
          "base_uri": "https://localhost:8080/"
        },
        "id": "_vrq8_F1zwzx",
        "outputId": "e829dec6-8ff5-4609-c380-9e812bda7b5d"
      },
      "execution_count": 53,
      "outputs": [
        {
          "output_type": "stream",
          "name": "stdout",
          "text": [
            "[1, 4, 6, 12, 15, 16, 16]\n",
            "[1, 8, 15, 22, 27, 34, 34]\n",
            "[8, 13, 15, 18, 22, 27, 28, 34, 38, 39, 39, 39]\n",
            "[11, 16, 19, 22, 25, 30, 33, 37, 41, 44, 47, 47]\n"
          ]
        }
      ]
    },
    {
      "cell_type": "markdown",
      "source": [
        "Problem 4"
      ],
      "metadata": {
        "id": "GQo2haIqYcpz"
      }
    },
    {
      "cell_type": "code",
      "source": [
        "#Euler Forward\n",
        "import math\n",
        "import matplotlib.pyplot as plt\n",
        "x_t = 0\n",
        "x_t2 = 0\n",
        "v_t = 25\n",
        "v_t2 = 0\n",
        "velocities = []\n",
        "distances = []\n",
        "accelerations = []\n",
        "y = []\n",
        "for t in range(47):\n",
        "  v_t2 = v_t + 2.8*(math.e**(-.01*v_t))*1\n",
        "  x_t2 = x_t + 100*math.log((2.8*t/100)+1.28)*1\n",
        "  velocities.append(v_t)\n",
        "  distances.append(x_t)\n",
        "  accelerations.append(2.8*(math.e**(-.01*v_t)))\n",
        "  v_t = v_t2\n",
        "  x_t = x_t2\n",
        "  y.append(t)\n",
        "print(velocities)\n",
        "print(distances)\n",
        "print(accelerations)\n",
        "plt.plot(y, velocities, label=\"Velocity Profile\")\n",
        "plt.xlabel(\"Time(s)\")\n",
        "plt.ylabel(\"Velocity\")\n",
        "plt.title(\"Forward Euler for Velocity\")"
      ],
      "metadata": {
        "colab": {
          "base_uri": "https://localhost:8080/",
          "height": 384
        },
        "id": "ez6cs3omYdpF",
        "outputId": "e4e6b613-b9e6-4b34-8bdf-56a11e41552b"
      },
      "execution_count": 8,
      "outputs": [
        {
          "output_type": "stream",
          "name": "stdout",
          "text": [
            "[25, 27.180642192599933, 29.31424710280753, 31.402811515642814, 33.44820728705872, 35.45219157794055, 37.41641605921451, 39.34243520993811, 41.23171381370775, 43.08563374470015, 44.905500122740285, 46.692546906613224, 48.4479419861271, 50.172791825956224, 51.868145707853955, 53.53499961226494, 55.174299775552726, 56.78694595488045, 58.373794429146486, 59.935660761205696, 61.47332234383431, 62.98752074946696, 64.47896390160102, 65.94832808388603, 67.39625980126053, 68.82337750603624, 70.23027320053457, 71.61751392673264, 72.98564315235582, 74.33518206194591, 75.66663076062517, 76.98046939755332, 78.27715921542891, 79.55714353180703, 80.82084865748647, 82.06868475675252, 83.30104665384216, 84.51831458961998, 85.72085493211202, 86.90902084423678, 88.0831529117934, 89.24357973451514, 90.39061848276664, 91.52457542225656, 92.64574640894725, 93.75441735617204, 94.85086467581397]\n",
            "[0, 24.68600779315258, 51.53593309665328, 80.50394060809869, 111.54609655022573, 144.6202527414485, 179.68593990276543, 216.7042692991179, 255.63784191694597, 296.4506644697108, 339.1080716015507, 383.57665372769526, 429.8241900101897, 477.81958602008007, 527.5328156834789, 578.9348671497299, 631.997692255947, 686.6941592941333, 742.9980088154258, 800.8838122312076, 860.3269329932863, 921.3034901553757, 983.7903241360408, 1047.7649645193237, 1113.205599743675, 1180.091048542765, 1248.4007330134095, 1318.1146531963577, 1389.2133630651854, 1461.677947827117, 1535.4900024473845, 1610.6316113157766, 1687.0853289804384, 1764.834161879808, 1843.8615510088748, 1924.1513554607814, 2005.687836789201, 2088.455644140956, 2172.4398001120308, 2257.6256872835074, 2343.999035397055, 2431.545909132445, 2520.2526964521703, 2610.10609748066, 2701.093113887783, 2793.2010387483783, 2886.417446851423]\n",
            "[2.1806421925999335, 2.133604910207597, 2.0885644128352814, 2.0453957714159072, 2.0039842908818284, 1.9642244812739589, 1.9260191507236004, 1.8892786037696403, 1.8539199309924002, 1.8198663780401367, 1.787046783872935, 1.7553950795138726, 1.7248498398291268, 1.6953538818977336, 1.6668539044109842, 1.6393001632877882, 1.6126461793277265, 1.5868484742660358, 1.5618663320592094, 1.5376615826286133, 1.5141984056326498, 1.4914431521340594, 1.469364182285001, 1.4479317173744994, 1.4271177047757069, 1.4068956944983257, 1.3872407261980755, 1.368129225623178, 1.3495389095900956, 1.331448698679253, 1.3138386369281505, 1.2966898178755888, 1.2799843163781246, 1.2637051256794367, 1.2478360992660467, 1.2323618970896404, 1.2172679357778091, 1.20254034249204, 1.1881659121247556, 1.174132067556632, 1.1604268227217291, 1.1470387482515099, 1.133956939489927, 1.1211709866906836, 1.1086709472248009, 1.096447319641923, 1.08449101944259]\n"
          ]
        },
        {
          "output_type": "execute_result",
          "data": {
            "text/plain": [
              "Text(0.5, 1.0, 'Forward Euler for Velocity')"
            ]
          },
          "metadata": {},
          "execution_count": 8
        },
        {
          "output_type": "display_data",
          "data": {
            "text/plain": [
              "<Figure size 432x288 with 1 Axes>"
            ],
            "image/png": "[encoded data removed]"
          },
          "metadata": {
            "needs_background": "light"
          }
        }
      ]
    },
    {
      "cell_type": "code",
      "source": [
        "plt.plot(y, distances, label=\"Position Profile\")\n",
        "plt.xlabel(\"Time(s)\")\n",
        "plt.ylabel(\"Distance\")\n",
        "plt.title(\"Forward Euler for Distance\")"
      ],
      "metadata": {
        "colab": {
          "base_uri": "https://localhost:8080/",
          "height": 312
        },
        "id": "sboXssHQUAxF",
        "outputId": "2cb0996f-be4d-4be3-910d-cda9b11bdea8"
      },
      "execution_count": 9,
      "outputs": [
        {
          "output_type": "execute_result",
          "data": {
            "text/plain": [
              "Text(0.5, 1.0, 'Forward Euler for Distance')"
            ]
          },
          "metadata": {},
          "execution_count": 9
        },
        {
          "output_type": "display_data",
          "data": {
            "text/plain": [
              "<Figure size 432x288 with 1 Axes>"
            ],
            "image/png": "[encoded data removed]"
          },
          "metadata": {
            "needs_background": "light"
          }
        }
      ]
    },
    {
      "cell_type": "code",
      "source": [
        "#Heun Method\n",
        "import math\n",
        "x_t = 0\n",
        "x_t2 = 0\n",
        "v_t = 25\n",
        "v_t2 = 0\n",
        "y = []\n",
        "velocities = []\n",
        "distances = []\n",
        "accelerations = []\n",
        "for t in range(47):\n",
        "  v_t2 = v_t + .5*(2.8*(math.e**(-.01*v_t))*1 + (700 / (7.1*t + 250*(math.e**(1/4)))) + .62)\n",
        "  x_t2 = x_t + .5*(100*math.log((2.8*t/100)+1.28)*1 + 100*math.log((2.8*(t+1)/100)+1.28)*1)\n",
        "  velocities.append(v_t)\n",
        "  distances.append(x_t)\n",
        "  accelerations.append([t,2.8*(math.e**(-.01*v_t))])\n",
        "  y.append(t)\n",
        "  v_t = v_t2\n",
        "  x_t = x_t2"
      ],
      "metadata": {
        "id": "vaR2cysrQmqK"
      },
      "execution_count": 35,
      "outputs": []
    },
    {
      "cell_type": "code",
      "source": [
        "import matplotlib.pyplot as plt\n",
        "plt.plot(y, velocities, label=\"Velocity Profile\")\n",
        "plt.xlabel(\"Time(s)\")\n",
        "plt.ylabel(\"Velocity\")\n",
        "plt.plot(y, velocities, label=\"Velocity Profile\")\n",
        "plt.title(\"Heun for Velocity\")"
      ],
      "metadata": {
        "colab": {
          "base_uri": "https://localhost:8080/",
          "height": 312
        },
        "id": "2fjR_ZusZ1zo",
        "outputId": "c56a60e3-4366-4c91-c320-f84d37984972"
      },
      "execution_count": 36,
      "outputs": [
        {
          "output_type": "execute_result",
          "data": {
            "text/plain": [
              "Text(0.5, 1.0, 'Heun for Velocity')"
            ]
          },
          "metadata": {},
          "execution_count": 36
        },
        {
          "output_type": "display_data",
          "data": {
            "text/plain": [
              "<Figure size 432x288 with 1 Axes>"
            ],
            "image/png": "[encoded data removed]"
          },
          "metadata": {
            "needs_background": "light"
          }
        }
      ]
    },
    {
      "cell_type": "code",
      "source": [
        "plt.plot(y, distances, label=\"Position Profile\")\n",
        "plt.xlabel(\"Time(s)\")\n",
        "plt.ylabel(\"Distance\")\n",
        "plt.title(\"Heun for Distance\")"
      ],
      "metadata": {
        "colab": {
          "base_uri": "https://localhost:8080/",
          "height": 312
        },
        "id": "kVbl8s7eaI9g",
        "outputId": "f0ed2f85-b693-4384-86df-d5af03cab6c1"
      },
      "execution_count": 37,
      "outputs": [
        {
          "output_type": "execute_result",
          "data": {
            "text/plain": [
              "Text(0.5, 1.0, 'Heun for Distance')"
            ]
          },
          "metadata": {},
          "execution_count": 37
        },
        {
          "output_type": "display_data",
          "data": {
            "text/plain": [
              "<Figure size 432x288 with 1 Axes>"
            ],
            "image/png": "[encoded data removed]"
          },
          "metadata": {
            "needs_background": "light"
          }
        }
      ]
    },
    {
      "cell_type": "markdown",
      "source": [
        "Probelm 5"
      ],
      "metadata": {
        "id": "-xkftsHoqzHW"
      }
    },
    {
      "cell_type": "code",
      "source": [
        "import matplotlib.pyplot as plt\n",
        "arrivals_per_minute = 160\n",
        "departures_per_minute = 140\n",
        "queue_size = []\n",
        "past_queue = 480\n",
        "times = []\n",
        "queue_departures = []\n",
        "past_departures = 0\n",
        "#each runthrough is one minute\n",
        "for t in range(0,60):\n",
        "  queue_size.append(past_queue+160)\n",
        "  past_queue = queue_size[-1]\n",
        "  times.append(t)\n",
        "  queue_departures.append(past_departures + 140)\n",
        "  past_departures = queue_departures[-1]\n",
        "\n",
        "\n",
        "plt.step(times, queue_size, color='red', where='pre')\n",
        "plt.step(times, queue_departures, color='green', where='pre')\n",
        "queue_size.append(queue_size[-1])\n",
        "queue_departures.append(queue_departures[-1])\n",
        "plt.xlabel(\"Time(min)\")\n",
        "plt.ylabel(\"Cars\")\n",
        "plt.title(\"Bottleneck Cumulative Plot\")\n",
        "print(queue_departures)\n",
        "print(queue_size)"
      ],
      "metadata": {
        "colab": {
          "base_uri": "https://localhost:8080/",
          "height": 350
        },
        "id": "EwrFKN478kzt",
        "outputId": "3728e584-174d-498f-8b75-f51895c08e55"
      },
      "execution_count": 63,
      "outputs": [
        {
          "output_type": "stream",
          "name": "stdout",
          "text": [
            "[140, 280, 420, 560, 700, 840, 980, 1120, 1260, 1400, 1540, 1680, 1820, 1960, 2100, 2240, 2380, 2520, 2660, 2800, 2940, 3080, 3220, 3360, 3500, 3640, 3780, 3920, 4060, 4200, 4340, 4480, 4620, 4760, 4900, 5040, 5180, 5320, 5460, 5600, 5740, 5880, 6020, 6160, 6300, 6440, 6580, 6720, 6860, 7000, 7140, 7280, 7420, 7560, 7700, 7840, 7980, 8120, 8260, 8400, 8540, 8540]\n",
            "[640, 800, 960, 1120, 1280, 1440, 1600, 1760, 1920, 2080, 2240, 2400, 2560, 2720, 2880, 3040, 3200, 3360, 3520, 3680, 3840, 4000, 4160, 4320, 4480, 4640, 4800, 4960, 5120, 5280, 5440, 5600, 5760, 5920, 6080, 6240, 6400, 6560, 6720, 6880, 7040, 7200, 7360, 7520, 7680, 7840, 8000, 8160, 8320, 8480, 8640, 8800, 8960, 9120, 9280, 9440, 9600, 9760, 9920, 10080, 10240, 10240]\n"
          ]
        },
        {
          "output_type": "display_data",
          "data": {
            "text/plain": [
              "<Figure size 432x288 with 1 Axes>"
            ],
            "image/png": "[encoded data removed]"
          },
          "metadata": {
            "needs_background": "light"
          }
        }
      ]
    }
  ]
}